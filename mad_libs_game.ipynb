{
  "nbformat": 4,
  "nbformat_minor": 0,
  "metadata": {
    "colab": {
      "provenance": [],
      "authorship_tag": "ABX9TyM9ddRZ9+ZfDnIAhzc7PtCx",
      "include_colab_link": true
    },
    "kernelspec": {
      "name": "python3",
      "display_name": "Python 3"
    },
    "language_info": {
      "name": "python"
    }
  },
  "cells": [
    {
      "cell_type": "markdown",
      "metadata": {
        "id": "view-in-github",
        "colab_type": "text"
      },
      "source": [
        "<a href=\"https://colab.research.google.com/github/fizasagar/Mad_Libs_Game/blob/main/mad_libs_game.ipynb\" target=\"_parent\"><img src=\"https://colab.research.google.com/assets/colab-badge.svg\" alt=\"Open In Colab\"/></a>"
      ]
    },
    {
      "cell_type": "markdown",
      "source": [
        "## **Mad Libs Game In Python**"
      ],
      "metadata": {
        "id": "hf77GvbnMvD5"
      }
    },
    {
      "cell_type": "code",
      "source": [
        "# User Input\n",
        "name = input(\"Enter Your Name: \")\n",
        "programming_language = input(\"Enter a programming language (e.g: HTML, TypeScript, Python, Next.js): \")\n",
        "location = input(\"Enter the location: \")\n",
        "mentor = input(\"Enter your Mentor's name: \")\n",
        "\n",
        "# Story Created\n",
        "print(\"\\nHere is an inspiring story based on the Mad Libs game!\\n\")\n",
        "print(f\"Once upon a time, there was a girl name {name}.\")\n",
        "print(f\"{name} was very curious and always wanted to learn new things.\")\n",
        "print(f\"One day, while scrolling through social media, {name} saw an initiative by the Governor of Sindh.\")\n",
        "print(f\"She got excited and wanted to be a part of this opportunity, so she submitted the application form.\")\n",
        "print(f\"Luckily, {name} got **Onsite selection** in GIAIC!\")\n",
        "print(f\"For the first time in her life, {name} got a chance to learn {programming_language}, which turned out to be quite challenging.\")\n",
        "print(f\"At {location}, she met new friends and amazing mentors, including {mentor}, who were experts in {programming_language}.\")\n",
        "\n",
        "# Learning Journey\n",
        "print(f\"\\nAt first, learning {programming_language} was not easy. {name} struggled with some concepts but never gave up!\")\n",
        "print(f\"With the help of {mentor}, {name} started improving day by day. She built her first small project, and it worked perfectly!\")\n",
        "print(f\"One day, {name} accidentally wrote a bug that made her program do something hilarious. Even {mentor} laughed and said, 'Welcome to the world of debugging!'\")\n",
        "print(f\"As time passed, {name} became more confident in {programming_language}. She realized that learning never stops, and every mistake was just a step toward success!\")\n",
        "print(\"And so, her journey continues...!\")\n"
      ],
      "metadata": {
        "colab": {
          "base_uri": "https://localhost:8080/"
        },
        "id": "zPHxTrq3M9sx",
        "outputId": "b5bc4209-58b5-4677-e9c6-05c075d9fc54"
      },
      "execution_count": 7,
      "outputs": [
        {
          "output_type": "stream",
          "name": "stdout",
          "text": [
            "Enter Your Name: Fiza\n",
            "Enter a programming language (e.g: HTML, TypeScript, Python, Next.js): Typescript\n",
            "Enter the location: Governor Sindh\n",
            "Enter your Mentor's name: Sir Ubaid\n",
            "\n",
            "Here is an inspiring story based on the Mad Libs game!\n",
            "\n",
            "Once upon a time, there was a girl name Fiza.\n",
            "Fiza was very curious and always wanted to learn new things.\n",
            "One day, while scrolling through social media, Fiza saw an initiative by the Governor of Sindh.\n",
            "She got excited and wanted to be a part of this opportunity, so she submitted the application form.\n",
            "Luckily, Fiza got **Onsite selection** in GIAIC!\n",
            "For the first time in her life, Fiza got a chance to learn Typescript, which turned out to be quite challenging.\n",
            "At Governor Sindh, she met new friends and amazing mentors, including Sir Ubaid, who were experts in Typescript.\n",
            "\n",
            "At first, learning Typescript was not easy. Fiza struggled with some concepts but never gave up!\n",
            "With the help of Sir Ubaid, Fiza started improving day by day. She built her first small project, and it worked perfectly!\n",
            "One day, Fiza accidentally wrote a bug that made her program do something hilarious. Even Sir Ubaid laughed and said, 'Welcome to the world of debugging!'\n",
            "As time passed, Fiza became more confident in Typescript. She realized that learning never stops, and every mistake was just a step toward success!\n",
            "And so, her journey continues...!\n"
          ]
        }
      ]
    }
  ]
}